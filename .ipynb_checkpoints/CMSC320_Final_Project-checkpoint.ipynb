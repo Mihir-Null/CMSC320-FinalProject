{
 "cells": [
  {
   "cell_type": "markdown",
   "metadata": {
    "id": "E-xAivOsV3bU"
   },
   "source": []
  },
  {
   "cell_type": "code",
   "execution_count": 1,
   "metadata": {
    "id": "TannkfsVCux3"
   },
   "outputs": [],
   "source": [
    "#import\n",
    "import pandas as pd\n",
    "data = pd.read_csv('Housing.csv')"
   ]
  },
  {
   "cell_type": "code",
   "execution_count": 2,
   "metadata": {
    "id": "tUywpZ5YV4NF"
   },
   "outputs": [
    {
     "name": "stdout",
     "output_type": "stream",
     "text": [
      "id               0\n",
      "date             0\n",
      "price            0\n",
      "bedrooms         0\n",
      "bathrooms        0\n",
      "sqft_living      0\n",
      "sqft_lot         0\n",
      "floors           0\n",
      "waterfront       0\n",
      "view             0\n",
      "condition        0\n",
      "grade            0\n",
      "sqft_above       0\n",
      "sqft_basement    0\n",
      "yr_built         0\n",
      "yr_renovated     0\n",
      "zipcode          0\n",
      "lat              0\n",
      "long             0\n",
      "sqft_living15    0\n",
      "sqft_lot15       0\n",
      "dtype: int64\n"
     ]
    }
   ],
   "source": [
    "#parse\n",
    "\n",
    "\n",
    "#handling NaNs\n",
    "print(data.isnull().sum())\n",
    "\n",
    "data['bedrooms'] = data['bedrooms'].fillna(data['bedrooms'].median()) # Filling missing values\n",
    "data['bathrooms'] = data['bathrooms'].fillna(data['bathrooms'].median())\n",
    "\n",
    "data.dropna(subset=['price'], inplace=True) # Dropping rows where the 'price' is missing\n",
    "\n",
    "data['yr_renovated'] = data['yr_renovated'].fillna(0) # Filling 'yr_renovated' with 0 where NaNs may imply no renovation\n",
    "\n",
    "\n",
    "#string converts\n",
    "data['date'] = pd.to_datetime(data['date'])\n",
    "data['id'] = data['id'].astype(str)\n",
    "\n",
    "\n",
    "#one hot encoding\n",
    "data['house_age'] = data['date'].dt.year - data['yr_built']\n",
    "#should make years since renovation equal years since it was built if 0\n",
    "#data['years_since_renovation'] = data.apply(lambda row: row['date'].year - row['yr_renovated'] if row['yr_renovated'] != 0 else 0, axis=1)\n",
    "data['years_since_renovation'] = data.apply(\n",
    "    lambda row: row['date'].year - row['yr_renovated'] if row['yr_renovated'] != 0 else row['date'].year - row['yr_built'],\n",
    "    axis=1\n",
    ")\n",
    "#Mihir new cols\n",
    "data['num_rooms'] = data['bedrooms'] + data['bathrooms']\n",
    "data['living percentage'] = (data['sqft_living'])/(data['sqft_lot'])\n",
    "data['price_per_sqft_living'] = data['price']/data['sqft_living']\n",
    "data['price_per_sqft_lot'] = data['price']/data['sqft_lot']\n"
   ]
  },
  {
   "cell_type": "code",
   "execution_count": 3,
   "metadata": {
    "id": "6v96C8wuDkij"
   },
   "outputs": [],
   "source": [
    "# organize (sort by date)\n",
    "data.sort_values(by='date', inplace=True)\n",
    "data.reset_index(drop=True, inplace=True)"
   ]
  },
  {
   "cell_type": "markdown",
   "metadata": {
    "id": "CmTutY-nDpJN"
   },
   "source": [
    "Data exploration"
   ]
  },
  {
   "cell_type": "code",
   "execution_count": 4,
   "metadata": {
    "id": "JUNXoe0TDn3X"
   },
   "outputs": [],
   "source": [
    "#Mihir - Covariance matrix of all features with price\n"
   ]
  },
  {
   "cell_type": "code",
   "execution_count": 5,
   "metadata": {
    "id": "oBK5aJu0ijHf"
   },
   "outputs": [],
   "source": [
    "#Mihir - Two new cols for number of houses per zip code in that listing and total number of rooms in the house, heatmap for the former"
   ]
  },
  {
   "cell_type": "code",
   "execution_count": 6,
   "metadata": {
    "id": "TD9cf520D3jO"
   },
   "outputs": [],
   "source": [
    "#XXX - Heatmap of price by zip code\n",
    "# could hypothesis test this by doing ANOVA on each zip code's distribution"
   ]
  }
 ],
 "metadata": {
  "colab": {
   "provenance": []
  },
  "kernelspec": {
   "display_name": "Python 3 (ipykernel)",
   "language": "python",
   "name": "python3"
  },
  "language_info": {
   "codemirror_mode": {
    "name": "ipython",
    "version": 3
   },
   "file_extension": ".py",
   "mimetype": "text/x-python",
   "name": "python",
   "nbconvert_exporter": "python",
   "pygments_lexer": "ipython3",
   "version": "3.11.5"
  }
 },
 "nbformat": 4,
 "nbformat_minor": 1
}
